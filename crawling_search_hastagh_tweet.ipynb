{
  "nbformat": 4,
  "nbformat_minor": 0,
  "metadata": {
    "colab": {
      "name": "crawling_search_hastagh_tweet.ipynb",
      "provenance": [],
      "collapsed_sections": [
        "6NvnMWigW1fi",
        "NUcT_x8OYxku"
      ],
      "include_colab_link": true
    },
    "kernelspec": {
      "name": "python3",
      "display_name": "Python 3"
    }
  },
  "cells": [
    {
      "cell_type": "markdown",
      "metadata": {
        "id": "view-in-github",
        "colab_type": "text"
      },
      "source": [
        "<a href=\"https://colab.research.google.com/github/DedeBrahma/Crawling-Tweepy/blob/master/crawling_search_hastagh_tweet.ipynb\" target=\"_parent\"><img src=\"https://colab.research.google.com/assets/colab-badge.svg\" alt=\"Open In Colab\"/></a>"
      ]
    },
    {
      "cell_type": "markdown",
      "metadata": {
        "id": "6NvnMWigW1fi",
        "colab_type": "text"
      },
      "source": [
        "# INTRO\n",
        "\n",
        "Note: **Jangan running code!!**\n",
        "\n",
        "copy file ini ke dalam google drive mu, caranya :\n",
        "\n",
        "klik File di pojok kiri, lalu pilih \"save a copy in drive.\""
      ]
    },
    {
      "cell_type": "markdown",
      "metadata": {
        "id": "L-oUvHYMXwLC",
        "colab_type": "text"
      },
      "source": [
        "**Import semua librari yang dibutuhkan**"
      ]
    },
    {
      "cell_type": "code",
      "metadata": {
        "id": "XHCU3wqgUqm5",
        "colab_type": "code",
        "colab": {}
      },
      "source": [
        "import tweepy\n",
        "import csv"
      ],
      "execution_count": 0,
      "outputs": []
    },
    {
      "cell_type": "markdown",
      "metadata": {
        "id": "bXq8wIzcYDdn",
        "colab_type": "text"
      },
      "source": [
        "# Masukkan Twitter API Key"
      ]
    },
    {
      "cell_type": "markdown",
      "metadata": {
        "id": "YH3m0ExeaukC",
        "colab_type": "text"
      },
      "source": [
        "Daftar pada link berikut https://apps.twitter.com/\n",
        "\n",
        "setelah berhasil mendaftar dan mendapatkan key masukkan kedalam masing-masing variabel."
      ]
    },
    {
      "cell_type": "code",
      "metadata": {
        "id": "jihadDDPUtaS",
        "colab_type": "code",
        "colab": {}
      },
      "source": [
        "consumer_key = ''\n",
        "consumer_secret = ''\n",
        "access_token = ''\n",
        "access_token_secret = ''"
      ],
      "execution_count": 0,
      "outputs": []
    },
    {
      "cell_type": "code",
      "metadata": {
        "id": "97puS2MvUxKe",
        "colab_type": "code",
        "colab": {}
      },
      "source": [
        "auth = tweepy.OAuthHandler(consumer_key, consumer_secret)\n",
        "auth.set_access_token(access_token, access_token_secret)\n",
        "api = tweepy.API(auth,wait_on_rate_limit=True)"
      ],
      "execution_count": 0,
      "outputs": []
    },
    {
      "cell_type": "markdown",
      "metadata": {
        "id": "NUcT_x8OYxku",
        "colab_type": "text"
      },
      "source": [
        "# Crawling Search"
      ]
    },
    {
      "cell_type": "markdown",
      "metadata": {
        "id": "rUG4sc91ZwPp",
        "colab_type": "text"
      },
      "source": [
        "Buat file csv dengan path content/sample_data/nama_file\n",
        "\n",
        "hasil data crawling akan tersimpan pada path tersebut, untuk melihatnya lihat di tab sebelah kiri dengan icon folder."
      ]
    },
    {
      "cell_type": "code",
      "metadata": {
        "id": "NcPGL2f1Uyfb",
        "colab_type": "code",
        "colab": {}
      },
      "source": [
        "csvFile = open('/content/sample_data/natuna.csv', 'a')\n",
        "csvWriter = csv.writer(csvFile)"
      ],
      "execution_count": 0,
      "outputs": []
    },
    {
      "cell_type": "markdown",
      "metadata": {
        "id": "7yNwFO4AZ13q",
        "colab_type": "text"
      },
      "source": [
        "Jalankan api search dengan keyword menggunakan parameter q,\n",
        "\n",
        "kemudian buat row pada csv dan memasukkan response tweet.created_at dan tweet.text"
      ]
    },
    {
      "cell_type": "code",
      "metadata": {
        "id": "2bfl6FmyU0K9",
        "colab_type": "code",
        "colab": {}
      },
      "source": [
        "for tweet in tweepy.Cursor(api.search,q=\"#natuna\",count=10,\n",
        "                           lang=\"id\",\n",
        "                           since=\"2020-01-10\").items():\n",
        "    print (tweet.created_at, tweet.text)\n",
        "    csvWriter.writerow([tweet.created_at, tweet.text.encode('utf-8')])"
      ],
      "execution_count": 0,
      "outputs": []
    }
  ]
}