{
  "nbformat": 4,
  "nbformat_minor": 0,
  "metadata": {
    "colab": {
      "name": "crawling_search.ipynb",
      "provenance": [],
      "collapsed_sections": [],
      "toc_visible": true,
      "authorship_tag": "ABX9TyOMlvutk6R/Zv/nwV07/n9N",
      "include_colab_link": true
    },
    "kernelspec": {
      "name": "python3",
      "display_name": "Python 3"
    }
  },
  "cells": [
    {
      "cell_type": "markdown",
      "metadata": {
        "id": "view-in-github",
        "colab_type": "text"
      },
      "source": [
        "<a href=\"https://colab.research.google.com/github/DedeBrahma/Crawling-Tweepy/blob/master/crawling_search.ipynb\" target=\"_parent\"><img src=\"https://colab.research.google.com/assets/colab-badge.svg\" alt=\"Open In Colab\"/></a>"
      ]
    },
    {
      "cell_type": "markdown",
      "metadata": {
        "id": "rTb-oRXXAr_G",
        "colab_type": "text"
      },
      "source": [
        "**INTRO**\n",
        "\n",
        "copy file ini ke dalam google drive mu, caranya :\n",
        "\n",
        "klik File di pojok kiri, lalu pilih \"save a copy in drive.\"\n",
        "\n",
        "Note : `SELALU GUNAKAN REFERENSI KETIKA ANDA MENYADUR`"
      ]
    },
    {
      "cell_type": "markdown",
      "metadata": {
        "id": "6HBIatVEAxvZ",
        "colab_type": "text"
      },
      "source": [
        "# Install Tweepy dan Import Library"
      ]
    },
    {
      "cell_type": "markdown",
      "metadata": {
        "id": "cJSkQSJIA09L",
        "colab_type": "text"
      },
      "source": [
        "Install tweepy\n",
        "\n",
        "Ref: http://docs.tweepy.org/en/latest/install.html"
      ]
    },
    {
      "cell_type": "code",
      "metadata": {
        "id": "RKaVmLO0AmD3",
        "colab_type": "code",
        "colab": {}
      },
      "source": [
        "pip install tweepy"
      ],
      "execution_count": 0,
      "outputs": []
    },
    {
      "cell_type": "markdown",
      "metadata": {
        "id": "3iKHNxV2A-b4",
        "colab_type": "text"
      },
      "source": [
        "**Import semua librari yang dibutuhkan**"
      ]
    },
    {
      "cell_type": "code",
      "metadata": {
        "id": "xnQVapbSBGEr",
        "colab_type": "code",
        "colab": {}
      },
      "source": [
        "import tweepy # libarary untuk Twitter\n",
        "import csv    # library untuk membuat file CSV"
      ],
      "execution_count": 0,
      "outputs": []
    },
    {
      "cell_type": "markdown",
      "metadata": {
        "id": "EWVztudkBC7_",
        "colab_type": "text"
      },
      "source": [
        "# Masukkan Twitter API Key"
      ]
    },
    {
      "cell_type": "markdown",
      "metadata": {
        "id": "tPTjE6SuBK88",
        "colab_type": "text"
      },
      "source": [
        "Daftar pada link berikut https://apps.twitter.com/\n",
        "\n",
        "Kemudian masukkan API KEY yang sudah didapatkan.\n",
        "\n",
        "Ref : https://developer.twitter.com/en/docs/basics/authentication/guides/authentication-best-practices"
      ]
    },
    {
      "cell_type": "code",
      "metadata": {
        "id": "X9pBDS8TCFPH",
        "colab_type": "code",
        "colab": {}
      },
      "source": [
        "# Inisialisasi API Key yang terdaftar\n",
        "consumer_key = ''\n",
        "consumer_secret = ''\n",
        "access_token = ''\n",
        "access_token_secret = ''"
      ],
      "execution_count": 0,
      "outputs": []
    },
    {
      "cell_type": "code",
      "metadata": {
        "id": "qVMuh3HuCG9b",
        "colab_type": "code",
        "colab": {}
      },
      "source": [
        "# Autentikasi API Twitter menggunakan Tweepy\n",
        "auth = tweepy.OAuthHandler(consumer_key, consumer_secret)\n",
        "auth.set_access_token(access_token, access_token_secret)\n",
        "api = tweepy.API(auth,wait_on_rate_limit=True)"
      ],
      "execution_count": 0,
      "outputs": []
    },
    {
      "cell_type": "markdown",
      "metadata": {
        "id": "LoTYkxtnCMKX",
        "colab_type": "text"
      },
      "source": [
        "# Crawling Search"
      ]
    },
    {
      "cell_type": "markdown",
      "metadata": {
        "id": "_B4jiJGZCOnO",
        "colab_type": "text"
      },
      "source": [
        "**Membuat file CSV**\n",
        "\n",
        "Ref:\n",
        "\n",
        "create csv = https://docs.python.org/3/library/csv.html\n",
        "\n",
        "File handling = https://stackabuse.com/file-handling-in-python/\n",
        "\n",
        "---\n",
        "Simpan kedalam path folder yang ada pada collabs, lihat pada sidebar sebelah kiri. klik pada tab folder\n",
        "\n",
        "path:  /content/sample_data/NAMA_FILE\n",
        "\n",
        "**Note** : Untuk melihat hasil harus di refresh pada folder sample_data"
      ]
    },
    {
      "cell_type": "code",
      "metadata": {
        "id": "s5bS9JgwCRrj",
        "colab_type": "code",
        "colab": {}
      },
      "source": [
        "csvFile = open('/content/sample_data/natuna.csv', 'a')\n",
        "csvWriter = csv.writer(csvFile)"
      ],
      "execution_count": 0,
      "outputs": []
    },
    {
      "cell_type": "markdown",
      "metadata": {
        "id": "W5BtyCIfCUXm",
        "colab_type": "text"
      },
      "source": [
        "\n",
        "\n",
        "---\n",
        "\n",
        "\n",
        "Jalankan api search dengan keyword menggunakan parameter q,\n",
        "\n",
        "kemudian buat row pada csv dan memasukkan response tweet.created_at dan tweet.text"
      ]
    },
    {
      "cell_type": "code",
      "metadata": {
        "id": "kDumnycmCWQ3",
        "colab_type": "code",
        "colab": {}
      },
      "source": [
        "for tweet in tweepy.Cursor(api.search,q=\"#natuna\",count=10,\n",
        "                           lang=\"id\",\n",
        "                           since=\"2020-01-10\").items():       # cari tweet dengan hastagh natuna yang berbahasa indonesia dengan 10 tweet per halaman dari tanggal 10 januari 2020\n",
        "    print (tweet.created_at, tweet.text)    # ambil data dari response berupa tanggal dan isi tweet\n",
        "    csvWriter.writerow([tweet.created_at, tweet.text.encode('utf-8')])    # masukkan kedalam csv dengan isi tweet dilakukan proses encoding"
      ],
      "execution_count": 0,
      "outputs": []
    }
  ]
}