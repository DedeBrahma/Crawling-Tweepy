{
  "nbformat": 4,
  "nbformat_minor": 0,
  "metadata": {
    "colab": {
      "name": "Crawling Stream.ipynb",
      "provenance": [],
      "collapsed_sections": [],
      "toc_visible": true,
      "authorship_tag": "ABX9TyOgSlfRqDLUWNS5P6L1WNtu",
      "include_colab_link": true
    },
    "kernelspec": {
      "name": "python3",
      "display_name": "Python 3"
    }
  },
  "cells": [
    {
      "cell_type": "markdown",
      "metadata": {
        "id": "view-in-github",
        "colab_type": "text"
      },
      "source": [
        "<a href=\"https://colab.research.google.com/github/DedeBrahma/Crawling-Tweepy/blob/master/Crawling_Stream.ipynb\" target=\"_parent\"><img src=\"https://colab.research.google.com/assets/colab-badge.svg\" alt=\"Open In Colab\"/></a>"
      ]
    },
    {
      "cell_type": "markdown",
      "metadata": {
        "id": "fTjEeUDkfEDv",
        "colab_type": "text"
      },
      "source": [
        "# INTRO\n",
        "\n",
        "Note: Jangan running code!!\n",
        "\n",
        "copy file ini ke dalam google drive mu, caranya :\n",
        "\n",
        "klik File di pojok kiri, lalu pilih \"save a copy in drive.\""
      ]
    },
    {
      "cell_type": "markdown",
      "metadata": {
        "id": "ot4vYUwAfM1i",
        "colab_type": "text"
      },
      "source": [
        "**Import semua librari yang dibutuhkan**"
      ]
    },
    {
      "cell_type": "code",
      "metadata": {
        "id": "YI1eh4J0fBmw",
        "colab_type": "code",
        "colab": {}
      },
      "source": [
        "from tweepy.streaming import StreamListener\n",
        "from tweepy import OAuthHandler\n",
        "from tweepy import Stream\n",
        "import datetime\n",
        "import json, time, sys\n",
        "import csv"
      ],
      "execution_count": 0,
      "outputs": []
    },
    {
      "cell_type": "markdown",
      "metadata": {
        "id": "xNWHmOoEfRh2",
        "colab_type": "text"
      },
      "source": [
        "# Masukkan Twitter API Key"
      ]
    },
    {
      "cell_type": "code",
      "metadata": {
        "id": "WkKtCCRNfTHc",
        "colab_type": "code",
        "colab": {}
      },
      "source": [
        "consumer_key = '6qXA2fmtgpN68yQSy3IzLUPs6'\n",
        "consumer_secret = '0TEL9W6Eh3Dumx54zAdDWj2lA2i88ookST5jucs0ZOpQmwAb6m'\n",
        "access_token = '563053721-yCvEBd3vxKWjxqNeJnQ4dRpMw3nEiPX1kfMbny5r'\n",
        "access_token_secret = 'R99YPN00JTRZF7hNEnH9SkjoDJRn4UhGawdibX0cy1RGq'\n",
        "\n",
        "auth = OAuthHandler(consumer_key, consumer_secret)\n",
        "auth.set_access_token(access_token, access_token_secret)"
      ],
      "execution_count": 0,
      "outputs": []
    },
    {
      "cell_type": "markdown",
      "metadata": {
        "id": "dfS6V5mKnBOD",
        "colab_type": "text"
      },
      "source": [
        "# Buat class stream listener kemudian filter dengan keyword"
      ]
    },
    {
      "cell_type": "code",
      "metadata": {
        "id": "mwvci7Ljkj7u",
        "colab_type": "code",
        "colab": {
          "base_uri": "https://localhost:8080/",
          "height": 377
        },
        "outputId": "3bf9ef67-61e5-4558-f368-8a802b389046"
      },
      "source": [
        "class StdOutListener(StreamListener):\n",
        "    def __init__(self, api=None):\n",
        "        super(StdOutListener, self).__init__()\n",
        "        self.num_tweets = 0     # buat variabel inisialisasi jumlah tweet\n",
        "\n",
        "    def on_status(self, status):\n",
        "        record = {'Text': status.text, 'Created At': status.created_at}       # simpan hasil response kedalam variabel (contoh: ambil text dan created_at)\n",
        "        print(record)\n",
        "        self.num_tweets += 1        # setiap satu tweet yang berhasil didapat dihitung dengan menambahkan satu\n",
        "        if status.lang == 'in':     # filter tweet yang hanya berbahasa indonesia\n",
        "          if self.num_tweets < 20:  # batasi jumlah tweet yang dicrawling sebanyak 20\n",
        "              return True\n",
        "          else:\n",
        "              return False\n",
        "\n",
        "    def on_error(self, status_code):\n",
        "        if status_code == 420:\n",
        "            print('Error on status', status)\n",
        "            return False\n",
        "\n",
        "    def on_limit(self, status):\n",
        "        print('Limit threshold exceeded', status)\n",
        "\n",
        "    def on_timeout(self, status):\n",
        "        print('Stream disconnected; continuing...')\n",
        "\n",
        "\n",
        "stream = Stream(auth, StdOutListener())\n",
        "stream.filter(track=['yogyakarta'])"
      ],
      "execution_count": 7,
      "outputs": [
        {
          "output_type": "stream",
          "text": [
            "{'Text': '@bdgfess loc : kampus 4 UAD yogyakarta https://t.co/w45TwIGubL', 'Created At': datetime.datetime(2020, 2, 5, 4, 27, 9)}\n",
            "{'Text': 'RT @Mbendol52768653: STOP KLITIH\\nSemua lapisan masyarakat yogyakarta bersatu melawan klitih demi kota jogja lebih aman.\\nJogja berhati Nyama…', 'Created At': datetime.datetime(2020, 2, 5, 4, 27, 18)}\n",
            "{'Text': 'RT @merapi_news: Area Tamsis Yogyakarta  kocak. Wkwkwk https://t.co/8gXYZw1ROV', 'Created At': datetime.datetime(2020, 2, 5, 4, 27, 46)}\n",
            "{'Text': 'RT @merapi_news: Area Tamsis Yogyakarta  kocak. Wkwkwk https://t.co/8gXYZw1ROV', 'Created At': datetime.datetime(2020, 2, 5, 4, 27, 58)}\n",
            "{'Text': '#ayotraveling #ayodolanjogja #ayokemaluku hotel di sekitar bandara adisucipto yogyakarta KLIK https://t.co/zrZq2CGei6', 'Created At': datetime.datetime(2020, 2, 5, 4, 28, 18)}\n",
            "{'Text': 'Baru saja mengirim foto @ Taman Sari Yogyakarta https://t.co/E7CqfpVAMP', 'Created At': datetime.datetime(2020, 2, 5, 4, 28, 19)}\n",
            "{'Text': 'RT @merapi_news: Area Tamsis Yogyakarta  kocak. Wkwkwk https://t.co/8gXYZw1ROV', 'Created At': datetime.datetime(2020, 2, 5, 4, 28, 23)}\n",
            "{'Text': 'Pernah Larang Mahasiswi Bercadar, Rektor UIN Yogyakarta akan Dilantik Jokowi Jadi Kepala BPIP https://t.co/EsP8nWiCu2 lewat @tribunpontianak', 'Created At': datetime.datetime(2020, 2, 5, 4, 28, 58)}\n",
            "{'Text': 'RT @nithasist: RENCANA PEMULANGAN 600 ANGGOTA ISIS EKS WNI KE TANAH AIR\\n\\nIr. KPH. Bagas Pujilaksono Widyakanigara, https://t.co/MUMlNx5Nkm.…', 'Created At': datetime.datetime(2020, 2, 5, 4, 29, 8)}\n",
            "{'Text': 'RT @merapi_news: Area Tamsis Yogyakarta  kocak. Wkwkwk https://t.co/8gXYZw1ROV', 'Created At': datetime.datetime(2020, 2, 5, 4, 29, 45)}\n",
            "{'Text': 'RT @nithasist: RENCANA PEMULANGAN 600 ANGGOTA ISIS EKS WNI KE TANAH AIR\\n\\nIr. KPH. Bagas Pujilaksono Widyakanigara, https://t.co/MUMlNx5Nkm.…', 'Created At': datetime.datetime(2020, 2, 5, 4, 29, 51)}\n",
            "{'Text': 'Di Kontrakan Rumah Baru Di Dlm Perum Wirokreten – Kotagede, Yogyakarta Kota https://t.co/IUNA2eZcyS #yogyakarta #jogja', 'Created At': datetime.datetime(2020, 2, 5, 4, 30, 2)}\n",
            "{'Text': 'Vient de publier une vidéo à Special Region of Yogyakarta https://t.co/fqLXXNkrfZ', 'Created At': datetime.datetime(2020, 2, 5, 4, 30, 5)}\n",
            "{'Text': 'Vient de publier une photo à Yogyakarta https://t.co/T2leBkOUOK', 'Created At': datetime.datetime(2020, 2, 5, 4, 30, 9)}\n",
            "{'Text': 'RT @merapi_news: Area Tamsis Yogyakarta  kocak. Wkwkwk https://t.co/8gXYZw1ROV', 'Created At': datetime.datetime(2020, 2, 5, 4, 31, 3)}\n",
            "{'Text': 'RT @benzbara_: #batumanikam adalah karakter yang akan mengenalkan diri saya yang baru sebagai penulis, ke teman-teman semua, yang saya hara…', 'Created At': datetime.datetime(2020, 2, 5, 4, 31, 8)}\n",
            "{'Text': 'RT @cakimiNOW: Allohumma irhamna bil Quran..\\nWisuda Huffadz : Haul Syaikh Munawwir dan Syaikh R Abdul Qadir, Pondok Pesantren Krapyak Yogya…', 'Created At': datetime.datetime(2020, 2, 5, 4, 32, 27)}\n",
            "{'Text': 'Sore ini, 16.00 WIB | Sastra Liman edisi Februari 2020 | Workshop Penulisan Cerpen | Rumah Maiyah, Jl. Wates KM 2,5… https://t.co/WkzVF2z4MY', 'Created At': datetime.datetime(2020, 2, 5, 4, 32, 31)}\n",
            "{'Text': 'RT @majalahsabana: Sore ini, 16.00 WIB | Sastra Liman edisi Februari 2020 | Workshop Penulisan Cerpen | Rumah Maiyah, Jl. Wates KM 2,5 Gg.…', 'Created At': datetime.datetime(2020, 2, 5, 4, 32, 58)}\n",
            "{'Text': 'RT @majalahsabana: Sore ini, 16.00 WIB | Sastra Liman edisi Februari 2020 | Workshop Penulisan Cerpen | Rumah Maiyah, Jl. Wates KM 2,5 Gg.…', 'Created At': datetime.datetime(2020, 2, 5, 4, 33, 2)}\n"
          ],
          "name": "stdout"
        }
      ]
    }
  ]
}